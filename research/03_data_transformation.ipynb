{
 "cells": [
  {
   "cell_type": "code",
   "execution_count": 1,
   "metadata": {},
   "outputs": [
    {
     "data": {
      "text/plain": [
       "'c:\\\\Users\\\\DELL\\\\projects\\\\end-to-end-ML-with-MLflow\\\\research'"
      ]
     },
     "execution_count": 1,
     "metadata": {},
     "output_type": "execute_result"
    }
   ],
   "source": [
    "import os \n",
    "%pwd"
   ]
  },
  {
   "cell_type": "code",
   "execution_count": 2,
   "metadata": {},
   "outputs": [],
   "source": [
    "os.chdir(\"../\")"
   ]
  },
  {
   "cell_type": "code",
   "execution_count": 3,
   "metadata": {},
   "outputs": [
    {
     "data": {
      "text/plain": [
       "'c:\\\\Users\\\\DELL\\\\projects\\\\end-to-end-ML-with-MLflow'"
      ]
     },
     "execution_count": 3,
     "metadata": {},
     "output_type": "execute_result"
    }
   ],
   "source": [
    "%pwd"
   ]
  },
  {
   "cell_type": "markdown",
   "metadata": {},
   "source": [
    "## Entity"
   ]
  },
  {
   "cell_type": "code",
   "execution_count": 4,
   "metadata": {},
   "outputs": [],
   "source": [
    "from dataclasses import dataclass \n",
    "from pathlib import Path \n",
    "@dataclass \n",
    "class DataTransformationConfig :\n",
    "    root_dir : Path\n",
    "    data_path : Path\n"
   ]
  },
  {
   "cell_type": "code",
   "execution_count": 5,
   "metadata": {},
   "outputs": [],
   "source": [
    "from mlproject.constants import *\n",
    "from mlproject.utils.common import read_yaml, create_directories\n",
    "class ConfiguratiopManger: \n",
    "    def __init__(self, config_path=CONFIG_FILE_PATH, param_path= PARAMS_FILE_PATH, schema_path= SCHEMA_FILE_PATH):\n",
    "        self.config = read_yaml (config_path)\n",
    "        self.param =  read_yaml(param_path)\n",
    "        self.schema =  read_yaml(schema_path)\n",
    "\n",
    "        create_directories([self.config.artifacts_root]) \n",
    "\n",
    "    def get_data_transformation_config(self) -> DataTransformationConfig: \n",
    "        \n",
    "        config = self.config.data_transformation\n",
    "\n",
    "        create_directories([config.root_dir])\n",
    "        data_transformation_config = DataTransformationConfig(\n",
    "            root_dir=config.root_dir, \n",
    "            data_path=config.data_path\n",
    "        )\n",
    "        return data_transformation_config \n",
    "     \n",
    "\n",
    "\n"
   ]
  },
  {
   "cell_type": "code",
   "execution_count": 6,
   "metadata": {},
   "outputs": [
    {
     "name": "stdout",
     "output_type": "stream",
     "text": [
      "[2024-12-30 04:21:33,161 - utils - INFO - NumExpr defaulting to 8 threads.]\n"
     ]
    }
   ],
   "source": [
    "import pandas as pd\n",
    "from sklearn.model_selection import train_test_split \n",
    "from mlproject import logger \n",
    "import os \n",
    "\n",
    "\n",
    "\n",
    "class DataTransformation : #train_test + encoding + PCA and all (#ALL EDA in ML cycle)\n",
    "    def __init__(self, config:DataTransformationConfig):\n",
    "        self.config = config  \n",
    "\n",
    "    def train_test_splitting(self):\n",
    "        data= pd.read_csv(self.config.data_path)\n",
    "        \n",
    "        train, test = train_test_split(data,test_size=0.25)\n",
    "        train.to_csv(os.path.join(self.config.root_dir, \"train.csv\"), index=False)\n",
    "        test.to_csv(os.path.join(self.config.root_dir, \"test.csv\"), index= False) \n",
    "\n",
    "        logger.info(\"Splited data into training and testing sets\")\n",
    "        logger.info(train.shape)\n",
    "        logger.info(test.shape)\n",
    "\n",
    "        print(train.shape)\n",
    "        print(test.shape)\n",
    "\n"
   ]
  },
  {
   "cell_type": "code",
   "execution_count": 7,
   "metadata": {},
   "outputs": [
    {
     "name": "stdout",
     "output_type": "stream",
     "text": [
      "[2024-12-30 04:21:33,634 - common - INFO - yaml file: config\\config.yaml loadded successfully]\n",
      "[2024-12-30 04:21:33,636 - common - INFO - yaml file: params.yaml loadded successfully]\n",
      "[2024-12-30 04:21:33,639 - common - INFO - yaml file: schema.yaml loadded successfully]\n",
      "[2024-12-30 04:21:33,640 - common - INFO - created directory at: artifacts]\n",
      "[2024-12-30 04:21:33,641 - common - INFO - created directory at: artifacts/data_transformation]\n",
      "[2024-12-30 04:21:33,663 - 2632921838 - INFO - Splited data into training and testing sets]\n",
      "[2024-12-30 04:21:33,663 - 2632921838 - INFO - (1199, 12)]\n",
      "[2024-12-30 04:21:33,664 - 2632921838 - INFO - (400, 12)]\n",
      "(1199, 12)\n",
      "(400, 12)\n"
     ]
    }
   ],
   "source": [
    "try: \n",
    "    config = ConfiguratiopManger()\n",
    "    data_transformation_config = config.get_data_transformation_config()\n",
    "    data_transformation = DataTransformation(config=data_transformation_config)\n",
    "    data_transformation.train_test_splitting()\n",
    "\n",
    "except Exception as e: \n",
    "    raise e "
   ]
  },
  {
   "cell_type": "code",
   "execution_count": null,
   "metadata": {},
   "outputs": [],
   "source": []
  }
 ],
 "metadata": {
  "kernelspec": {
   "display_name": "base",
   "language": "python",
   "name": "python3"
  },
  "language_info": {
   "codemirror_mode": {
    "name": "ipython",
    "version": 3
   },
   "file_extension": ".py",
   "mimetype": "text/x-python",
   "name": "python",
   "nbconvert_exporter": "python",
   "pygments_lexer": "ipython3",
   "version": "3.9.13"
  }
 },
 "nbformat": 4,
 "nbformat_minor": 2
}
