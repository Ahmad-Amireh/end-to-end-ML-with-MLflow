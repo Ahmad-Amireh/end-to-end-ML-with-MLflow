{
 "cells": [
  {
   "cell_type": "code",
   "execution_count": 1,
   "metadata": {},
   "outputs": [],
   "source": [
    "import os \n",
    "import mlflow"
   ]
  },
  {
   "cell_type": "code",
   "execution_count": 2,
   "metadata": {},
   "outputs": [],
   "source": [
    "os.chdir(\"../\")"
   ]
  },
  {
   "cell_type": "code",
   "execution_count": 3,
   "metadata": {},
   "outputs": [
    {
     "data": {
      "text/plain": [
       "'c:\\\\Users\\\\DELL\\\\projects\\\\end-to-end-ML-with-MLflow'"
      ]
     },
     "execution_count": 3,
     "metadata": {},
     "output_type": "execute_result"
    }
   ],
   "source": [
    "%pwd"
   ]
  },
  {
   "cell_type": "code",
   "execution_count": 4,
   "metadata": {},
   "outputs": [],
   "source": [
    "os.environ[\"MLFOLOW_TRACKING_URI\"]= \"https://dagshub.com/Ahmad97/my-first-repo.mlflow\" \n",
    "os.environ[\"DAGS_HUB_TOKEN\"] =  \"4cefc6718b7a65548a8d20d5c9012fcff949fd23\""
   ]
  },
  {
   "cell_type": "code",
   "execution_count": 5,
   "metadata": {},
   "outputs": [
    {
     "name": "stdout",
     "output_type": "stream",
     "text": [
      "Token found!\n"
     ]
    }
   ],
   "source": [
    "import os\n",
    "\n",
    "# Retrieve the token\n",
    "token = os.environ.get(\"DAGS_HUB_TOKEN\")\n",
    "\n",
    "# Check if token exists\n",
    "if token:\n",
    "    print(\"Token found!\")\n",
    "else:\n",
    "    print(\"Token not found. Please set the environment variable.\")"
   ]
  },
  {
   "cell_type": "code",
   "execution_count": 6,
   "metadata": {},
   "outputs": [
    {
     "name": "stdout",
     "output_type": "stream",
     "text": [
      "The URL https://dagshub.com/Ahmad97/my-first-repo.mlflow?token=4cefc6718b7a65548a8d20d5c9012fcff949fd23 is reachable.\n"
     ]
    }
   ],
   "source": [
    "import requests\n",
    "token= os.environ.get(\"DAGS_HUB_TOKEN\")\n",
    "uri = os.environ.get(\"MLFOLOW_TRACKING_URI\")\n",
    "def check_url_reachable(url):\n",
    "    try:\n",
    "        response = requests.get(url)\n",
    "        # Check if the status code is 200 (OK)\n",
    "        if response.status_code == 200:\n",
    "            print(f\"The URL {url} is reachable.\")\n",
    "        else:\n",
    "            print(f\"The URL {url} returned status code: {response.status_code}\")\n",
    "    except requests.exceptions.RequestException as e:\n",
    "        print(f\"An error occurred while trying to reach {url}: {e}\")\n",
    "\n",
    "# Example usage with your tracking URL\n",
    "tracking_url = f\"{uri}?token={token}\" # Replace with your MLflow tracking URL\n",
    "check_url_reachable(tracking_url)"
   ]
  },
  {
   "cell_type": "code",
   "execution_count": 7,
   "metadata": {},
   "outputs": [],
   "source": [
    "from dataclasses import dataclass\n",
    "from pathlib import Path\n",
    "\n",
    "@dataclass(frozen=True)\n",
    "class ModelEvaluationConfig: \n",
    "    root_dir: Path\n",
    "    test_data_path: Path\n",
    "    model_path: Path\n",
    "    metric_file_name: Path\n",
    "    all_params: dict\n",
    "    target_column: str \n",
    "    #mlflow_uri: str \n",
    "\n",
    "\n"
   ]
  },
  {
   "cell_type": "code",
   "execution_count": 8,
   "metadata": {},
   "outputs": [],
   "source": [
    "from mlproject.constants import * \n",
    "from mlproject.utils.common import read_yaml, create_directories, save_json\n",
    "\n",
    "class ConfigurationManager:\n",
    "    def __init__ (self,config_path= CONFIG_FILE_PATH, param_path =PARAMS_FILE_PATH, schema_path= SCHEMA_FILE_PATH):\n",
    "        self.config = read_yaml(config_path)\n",
    "        self.params = read_yaml(param_path)\n",
    "        self.schema = read_yaml(schema_path)\n",
    "\n",
    "        create_directories([self.config.artifacts_root])\n",
    "\n",
    "    def get_configutaion_model_evaluation (self): \n",
    "        config = self.config.model_evaluation \n",
    "        params = self.params.ElasticNet\n",
    "        schema = self.schema.TARGET_COLUMN \n",
    "\n",
    "        create_directories([config.root_dir])\n",
    "\n",
    "\n",
    "        model_evaluation_config = ModelEvaluationConfig(\n",
    "            root_dir=config.root_dir,\n",
    "            test_data_path =config.test_data_path,\n",
    "            model_path=config.model_path,\n",
    "            all_params= params,\n",
    "            metric_file_name= config.metric_file_name,\n",
    "            target_column= schema.name,\n",
    "            #mlflow_uri=f\"{uri}?token={token}\"\n",
    "        )\n",
    "        \n",
    "        return model_evaluation_config\n"
   ]
  },
  {
   "cell_type": "code",
   "execution_count": 9,
   "metadata": {},
   "outputs": [
    {
     "name": "stdout",
     "output_type": "stream",
     "text": [
      "Requirement already satisfied: protobuf==3.20.1 in c:\\users\\dell\\anaconda3\\lib\\site-packages (3.20.1)\n",
      "Note: you may need to restart the kernel to use updated packages.\n",
      "Requirement already satisfied: dags in c:\\users\\dell\\anaconda3\\lib\\site-packages (0.2.3)\n",
      "Requirement already satisfied: networkx in c:\\users\\dell\\anaconda3\\lib\\site-packages (from dags) (2.8.4)\n",
      "Note: you may need to restart the kernel to use updated packages.\n"
     ]
    }
   ],
   "source": [
    "%pip install protobuf==3.20.1\n",
    "%pip install dags"
   ]
  },
  {
   "cell_type": "code",
   "execution_count": 10,
   "metadata": {},
   "outputs": [],
   "source": [
    "import os \n",
    "import pandas as pd\n",
    "from sklearn.metrics import mean_squared_error, mean_absolute_error, r2_score\n",
    "from urllib.parse import urlparse\n",
    "import mlflow\n",
    "import mlflow.sklearn \n",
    "import numpy\n",
    "import joblib \n",
    "import numpy as np\n"
   ]
  },
  {
   "cell_type": "code",
   "execution_count": 11,
   "metadata": {},
   "outputs": [
    {
     "name": "stdout",
     "output_type": "stream",
     "text": [
      "Requirement already satisfied: dagshub in c:\\users\\dell\\anaconda3\\lib\\site-packages (0.4.2)\n",
      "Requirement already satisfied: tenacity>=8.2.2 in c:\\users\\dell\\anaconda3\\lib\\site-packages (from dagshub) (9.0.0)\n",
      "Requirement already satisfied: dagshub-annotation-converter>=0.1.0 in c:\\users\\dell\\anaconda3\\lib\\site-packages (from dagshub) (0.1.2)\n",
      "Requirement already satisfied: pathvalidate>=3.0.0 in c:\\users\\dell\\anaconda3\\lib\\site-packages (from dagshub) (3.2.1)\n",
      "Requirement already satisfied: GitPython>=3.1.29 in c:\\users\\dell\\anaconda3\\lib\\site-packages (from dagshub) (3.1.30)\n",
      "Requirement already satisfied: httpx>=0.23.0 in c:\\users\\dell\\anaconda3\\lib\\site-packages (from dagshub) (0.28.1)\n",
      "Requirement already satisfied: PyYAML>=5 in c:\\users\\dell\\anaconda3\\lib\\site-packages (from dagshub) (6.0)\n",
      "Requirement already satisfied: click>=8.0.4 in c:\\users\\dell\\anaconda3\\lib\\site-packages (from dagshub) (8.0.4)\n",
      "Requirement already satisfied: gql[requests] in c:\\users\\dell\\anaconda3\\lib\\site-packages (from dagshub) (3.5.0)\n",
      "Requirement already satisfied: boto3 in c:\\users\\dell\\anaconda3\\lib\\site-packages (from dagshub) (1.24.28)\n",
      "Requirement already satisfied: python-dateutil in c:\\users\\dell\\anaconda3\\lib\\site-packages (from dagshub) (2.8.2)\n",
      "Requirement already satisfied: pandas in c:\\users\\dell\\anaconda3\\lib\\site-packages (from dagshub) (1.4.4)\n",
      "Requirement already satisfied: dataclasses-json in c:\\users\\dell\\anaconda3\\lib\\site-packages (from dagshub) (0.6.7)\n",
      "Requirement already satisfied: appdirs>=1.4.4 in c:\\users\\dell\\anaconda3\\lib\\site-packages (from dagshub) (1.4.4)\n",
      "Requirement already satisfied: treelib>=1.6.4 in c:\\users\\dell\\anaconda3\\lib\\site-packages (from dagshub) (1.7.0)\n",
      "Requirement already satisfied: dacite~=1.6.0 in c:\\users\\dell\\anaconda3\\lib\\site-packages (from dagshub) (1.6.0)\n",
      "Requirement already satisfied: rich>=13.1.0 in c:\\users\\dell\\anaconda3\\lib\\site-packages (from dagshub) (13.3.1)\n",
      "Requirement already satisfied: colorama in c:\\users\\dell\\anaconda3\\lib\\site-packages (from click>=8.0.4->dagshub) (0.4.5)\n",
      "Requirement already satisfied: pydantic>=2.0.0 in c:\\users\\dell\\anaconda3\\lib\\site-packages (from dagshub-annotation-converter>=0.1.0->dagshub) (2.10.4)\n",
      "Requirement already satisfied: typing-extensions in c:\\users\\dell\\anaconda3\\lib\\site-packages (from dagshub-annotation-converter>=0.1.0->dagshub) (4.12.2)\n",
      "Requirement already satisfied: lxml in c:\\users\\dell\\anaconda3\\lib\\site-packages (from dagshub-annotation-converter>=0.1.0->dagshub) (4.9.1)\n",
      "Requirement already satisfied: pillow in c:\\users\\dell\\anaconda3\\lib\\site-packages (from dagshub-annotation-converter>=0.1.0->dagshub) (9.2.0)\n",
      "Requirement already satisfied: gitdb<5,>=4.0.1 in c:\\users\\dell\\anaconda3\\lib\\site-packages (from GitPython>=3.1.29->dagshub) (4.0.10)\n",
      "Requirement already satisfied: idna in c:\\users\\dell\\anaconda3\\lib\\site-packages (from httpx>=0.23.0->dagshub) (3.3)\n",
      "Requirement already satisfied: certifi in c:\\users\\dell\\anaconda3\\lib\\site-packages (from httpx>=0.23.0->dagshub) (2022.9.14)\n",
      "Requirement already satisfied: anyio in c:\\users\\dell\\anaconda3\\lib\\site-packages (from httpx>=0.23.0->dagshub) (3.5.0)\n",
      "Requirement already satisfied: httpcore==1.* in c:\\users\\dell\\anaconda3\\lib\\site-packages (from httpx>=0.23.0->dagshub) (1.0.7)\n",
      "Requirement already satisfied: h11<0.15,>=0.13 in c:\\users\\dell\\anaconda3\\lib\\site-packages (from httpcore==1.*->httpx>=0.23.0->dagshub) (0.14.0)\n",
      "Requirement already satisfied: pygments<3.0.0,>=2.14.0 in c:\\users\\dell\\anaconda3\\lib\\site-packages (from rich>=13.1.0->dagshub) (2.18.0)\n",
      "Requirement already satisfied: markdown-it-py<3.0.0,>=2.1.0 in c:\\users\\dell\\anaconda3\\lib\\site-packages (from rich>=13.1.0->dagshub) (2.1.0)\n",
      "Requirement already satisfied: six in c:\\users\\dell\\anaconda3\\lib\\site-packages (from treelib>=1.6.4->dagshub) (1.16.0)\n",
      "Requirement already satisfied: jmespath<2.0.0,>=0.7.1 in c:\\users\\dell\\anaconda3\\lib\\site-packages (from boto3->dagshub) (0.10.0)\n",
      "Requirement already satisfied: s3transfer<0.7.0,>=0.6.0 in c:\\users\\dell\\anaconda3\\lib\\site-packages (from boto3->dagshub) (0.6.0)\n",
      "Requirement already satisfied: botocore<1.28.0,>=1.27.28 in c:\\users\\dell\\anaconda3\\lib\\site-packages (from boto3->dagshub) (1.27.28)\n",
      "Requirement already satisfied: marshmallow<4.0.0,>=3.18.0 in c:\\users\\dell\\anaconda3\\lib\\site-packages (from dataclasses-json->dagshub) (3.23.2)\n",
      "Requirement already satisfied: typing-inspect<1,>=0.4.0 in c:\\users\\dell\\anaconda3\\lib\\site-packages (from dataclasses-json->dagshub) (0.9.0)\n",
      "Requirement already satisfied: graphql-core<3.3,>=3.2 in c:\\users\\dell\\anaconda3\\lib\\site-packages (from gql[requests]->dagshub) (3.2.5)\n",
      "Requirement already satisfied: yarl<2.0,>=1.6 in c:\\users\\dell\\anaconda3\\lib\\site-packages (from gql[requests]->dagshub) (1.18.3)\n",
      "Requirement already satisfied: backoff<3.0,>=1.11.1 in c:\\users\\dell\\anaconda3\\lib\\site-packages (from gql[requests]->dagshub) (2.2.1)\n",
      "Requirement already satisfied: requests-toolbelt<2,>=1.0.0 in c:\\users\\dell\\anaconda3\\lib\\site-packages (from gql[requests]->dagshub) (1.0.0)\n",
      "Requirement already satisfied: requests<3,>=2.26 in c:\\users\\dell\\anaconda3\\lib\\site-packages (from gql[requests]->dagshub) (2.28.1)\n",
      "Requirement already satisfied: numpy>=1.18.5 in c:\\users\\dell\\anaconda3\\lib\\site-packages (from pandas->dagshub) (1.21.5)\n",
      "Requirement already satisfied: pytz>=2020.1 in c:\\users\\dell\\anaconda3\\lib\\site-packages (from pandas->dagshub) (2022.1)\n",
      "Requirement already satisfied: sniffio>=1.1 in c:\\users\\dell\\anaconda3\\lib\\site-packages (from anyio->httpx>=0.23.0->dagshub) (1.2.0)\n",
      "Requirement already satisfied: urllib3<1.27,>=1.25.4 in c:\\users\\dell\\anaconda3\\lib\\site-packages (from botocore<1.28.0,>=1.27.28->boto3->dagshub) (1.26.11)\n",
      "Requirement already satisfied: smmap<6,>=3.0.1 in c:\\users\\dell\\anaconda3\\lib\\site-packages (from gitdb<5,>=4.0.1->GitPython>=3.1.29->dagshub) (3.0.5)\n",
      "Requirement already satisfied: mdurl~=0.1 in c:\\users\\dell\\anaconda3\\lib\\site-packages (from markdown-it-py<3.0.0,>=2.1.0->rich>=13.1.0->dagshub) (0.1.0)\n",
      "Requirement already satisfied: packaging>=17.0 in c:\\users\\dell\\anaconda3\\lib\\site-packages (from marshmallow<4.0.0,>=3.18.0->dataclasses-json->dagshub) (21.3)\n",
      "Requirement already satisfied: annotated-types>=0.6.0 in c:\\users\\dell\\anaconda3\\lib\\site-packages (from pydantic>=2.0.0->dagshub-annotation-converter>=0.1.0->dagshub) (0.7.0)\n",
      "Requirement already satisfied: pydantic-core==2.27.2 in c:\\users\\dell\\anaconda3\\lib\\site-packages (from pydantic>=2.0.0->dagshub-annotation-converter>=0.1.0->dagshub) (2.27.2)\n",
      "Requirement already satisfied: charset-normalizer<3,>=2 in c:\\users\\dell\\anaconda3\\lib\\site-packages (from requests<3,>=2.26->gql[requests]->dagshub) (2.0.4)\n",
      "Requirement already satisfied: mypy-extensions>=0.3.0 in c:\\users\\dell\\anaconda3\\lib\\site-packages (from typing-inspect<1,>=0.4.0->dataclasses-json->dagshub) (0.4.3)\n",
      "Requirement already satisfied: multidict>=4.0 in c:\\users\\dell\\anaconda3\\lib\\site-packages (from yarl<2.0,>=1.6->gql[requests]->dagshub) (6.1.0)\n",
      "Requirement already satisfied: propcache>=0.2.0 in c:\\users\\dell\\anaconda3\\lib\\site-packages (from yarl<2.0,>=1.6->gql[requests]->dagshub) (0.2.1)\n",
      "Requirement already satisfied: pyparsing!=3.0.5,>=2.0.2 in c:\\users\\dell\\anaconda3\\lib\\site-packages (from packaging>=17.0->marshmallow<4.0.0,>=3.18.0->dataclasses-json->dagshub) (3.0.9)\n",
      "Note: you may need to restart the kernel to use updated packages.\n"
     ]
    }
   ],
   "source": [
    "%pip install dagshub"
   ]
  },
  {
   "cell_type": "code",
   "execution_count": 12,
   "metadata": {},
   "outputs": [],
   "source": [
    "import dagshub\n"
   ]
  },
  {
   "cell_type": "code",
   "execution_count": 13,
   "metadata": {},
   "outputs": [],
   "source": [
    "class ModelEvaluation: \n",
    "    def __init__(self, config: ModelEvaluationConfig): \n",
    "        self.config = config\n",
    "        \n",
    "    def eval_metrics(self, actual, pred): \n",
    "        rmse = np.sqrt(mean_squared_error(actual, pred))\n",
    "        mae= mean_absolute_error(actual, pred)\n",
    "        r2 = r2_score(actual, pred)\n",
    "        return rmse, mae, r2 \n",
    "    \n",
    "    def log_into_mlflow(self): \n",
    "        #print(self.config)\n",
    "        test_data = pd.read_csv(self.config.test_data_path)\n",
    "        model = joblib.load(self.config.model_path)\n",
    "        \n",
    "        x_test = test_data.drop([self.config.target_column], axis=1) \n",
    "        y_test = test_data[self.config.target_column]\n",
    "\n",
    "       #mlflow.set_tracking_uri(self.config.mlflow_uri)\n",
    "        #tracking_url_type_store = urlparse(mlflow.get_tracking_uri()).scheme\n",
    "        #print(tracking_url_type_store)\n",
    "        dagshub.init(repo_owner='Ahmad97', repo_name='my-first-repo', mlflow=True)\n",
    "        with mlflow.start_run():\n",
    "            y_predicted = model.predict(x_test)\n",
    "            (rmse, mae, r2) = self.eval_metrics(y_test, y_predicted)\n",
    "            scores = {\"rmse\": rmse, \"mae\": mae, \"r2\": r2}\n",
    "            save_json(path=Path(self.config.metric_file_name), data=scores)\n",
    "            mlflow.log_params(self.config.all_params)\n",
    "            mlflow.log_metrics({\"rmse\":rmse, \"mae\":mae, \"r2\":r2})\n",
    "            mlflow.sklearn.log_model(model, \"model\", registered_model_name=\"ElasticnetModel\")\n",
    "\n",
    "            #if tracking_url_type_store !=\"file\":\n",
    "                #mlflow.sklearn.log_model(model, \"model\", registered_model_name=\"ElasticnetModel\")\n",
    "            #else: \n",
    "                #mlflow.sklearn.log_model(model, \"model\")\n",
    "\n"
   ]
  },
  {
   "cell_type": "code",
   "execution_count": 14,
   "metadata": {},
   "outputs": [
    {
     "name": "stdout",
     "output_type": "stream",
     "text": [
      "[2024-12-31 06:08:56,104 - common - INFO - yaml file: config\\config.yaml loadded successfully]\n",
      "[2024-12-31 06:08:56,106 - common - INFO - yaml file: params.yaml loadded successfully]\n",
      "[2024-12-31 06:08:56,108 - common - INFO - yaml file: schema.yaml loadded successfully]\n",
      "[2024-12-31 06:08:56,109 - common - INFO - created directory at: artifacts]\n",
      "[2024-12-31 06:08:56,110 - common - INFO - created directory at: artifacts/model_evaluation]\n",
      "[2024-12-31 06:08:56,456 - _client - INFO - HTTP Request: GET https://dagshub.com/api/v1/user \"HTTP/1.1 200 OK\"]\n"
     ]
    },
    {
     "data": {
      "text/html": [
       "<pre style=\"white-space:pre;overflow-x:auto;line-height:normal;font-family:Menlo,'DejaVu Sans Mono',consolas,'Courier New',monospace\">Accessing as Ahmad97\n",
       "</pre>\n"
      ],
      "text/plain": [
       "Accessing as Ahmad97\n"
      ]
     },
     "metadata": {},
     "output_type": "display_data"
    },
    {
     "name": "stdout",
     "output_type": "stream",
     "text": [
      "[2024-12-31 06:08:56,462 - helpers - INFO - Accessing as Ahmad97]\n",
      "[2024-12-31 06:08:56,782 - _client - INFO - HTTP Request: GET https://dagshub.com/api/v1/repos/Ahmad97/my-first-repo \"HTTP/1.1 200 OK\"]\n",
      "[2024-12-31 06:08:57,095 - _client - INFO - HTTP Request: GET https://dagshub.com/api/v1/user \"HTTP/1.1 200 OK\"]\n"
     ]
    },
    {
     "data": {
      "text/html": [
       "<pre style=\"white-space:pre;overflow-x:auto;line-height:normal;font-family:Menlo,'DejaVu Sans Mono',consolas,'Courier New',monospace\">Initialized MLflow to track repo <span style=\"color: #008000; text-decoration-color: #008000\">\"Ahmad97/my-first-repo\"</span>\n",
       "</pre>\n"
      ],
      "text/plain": [
       "Initialized MLflow to track repo \u001b[32m\"Ahmad97/my-first-repo\"\u001b[0m\n"
      ]
     },
     "metadata": {},
     "output_type": "display_data"
    },
    {
     "name": "stdout",
     "output_type": "stream",
     "text": [
      "[2024-12-31 06:08:57,098 - helpers - INFO - Initialized MLflow to track repo \"Ahmad97/my-first-repo\"]\n"
     ]
    },
    {
     "data": {
      "text/html": [
       "<pre style=\"white-space:pre;overflow-x:auto;line-height:normal;font-family:Menlo,'DejaVu Sans Mono',consolas,'Courier New',monospace\">Repository Ahmad97/my-first-repo initialized!\n",
       "</pre>\n"
      ],
      "text/plain": [
       "Repository Ahmad97/my-first-repo initialized!\n"
      ]
     },
     "metadata": {},
     "output_type": "display_data"
    },
    {
     "name": "stdout",
     "output_type": "stream",
     "text": [
      "[2024-12-31 06:08:57,100 - helpers - INFO - Repository Ahmad97/my-first-repo initialized!]\n",
      "[2024-12-31 06:08:57,967 - common - INFO - json file saved at: artifacts\\model_evaluation\\metrics.json]\n"
     ]
    },
    {
     "name": "stderr",
     "output_type": "stream",
     "text": [
      "c:\\Users\\DELL\\anaconda3\\lib\\site-packages\\_distutils_hack\\__init__.py:33: UserWarning: Setuptools is replacing distutils.\n",
      "  warnings.warn(\"Setuptools is replacing distutils.\")\n",
      "Registered model 'ElasticnetModel' already exists. Creating a new version of this model...\n",
      "2024/12/31 06:09:05 INFO mlflow.tracking._model_registry.client: Waiting up to 300 seconds for model version to finish creation.                     Model name: ElasticnetModel, version 2\n",
      "Created version '2' of model 'ElasticnetModel'.\n"
     ]
    }
   ],
   "source": [
    "try:\n",
    "    config = ConfigurationManager()\n",
    "    mode_evaluation_config= config.get_configutaion_model_evaluation()\n",
    "    mode_evaluation = ModelEvaluation(config=mode_evaluation_config)\n",
    "    mode_evaluation.log_into_mlflow()\n",
    "except Exception as e : \n",
    "    raise e"
   ]
  },
  {
   "cell_type": "code",
   "execution_count": 15,
   "metadata": {},
   "outputs": [
    {
     "name": "stdout",
     "output_type": "stream",
     "text": [
      "MLflow Tracking URI: https://dagshub.com/Ahmad97/my-first-repo.mlflow\n"
     ]
    },
    {
     "data": {
      "text/plain": [
       "'https://dagshub.com/Ahmad97/my-first-repo.mlflow'"
      ]
     },
     "execution_count": 15,
     "metadata": {},
     "output_type": "execute_result"
    }
   ],
   "source": [
    "print(\"MLflow Tracking URI:\", mlflow.get_tracking_uri())\n",
    "os.environ.get(\"MLFOLOW_TRACKING_URI\")"
   ]
  },
  {
   "cell_type": "code",
   "execution_count": 16,
   "metadata": {},
   "outputs": [
    {
     "name": "stdout",
     "output_type": "stream",
     "text": [
      "Tracking URI: https://dagshub.com/Ahmad97/my-first-repo.mlflow\n"
     ]
    }
   ],
   "source": [
    "\n",
    "print(f\"Tracking URI: {mlflow.get_tracking_uri()}\")\n"
   ]
  },
  {
   "cell_type": "code",
   "execution_count": null,
   "metadata": {},
   "outputs": [],
   "source": []
  },
  {
   "cell_type": "code",
   "execution_count": null,
   "metadata": {},
   "outputs": [],
   "source": []
  }
 ],
 "metadata": {
  "kernelspec": {
   "display_name": "base",
   "language": "python",
   "name": "python3"
  },
  "language_info": {
   "codemirror_mode": {
    "name": "ipython",
    "version": 3
   },
   "file_extension": ".py",
   "mimetype": "text/x-python",
   "name": "python",
   "nbconvert_exporter": "python",
   "pygments_lexer": "ipython3",
   "version": "3.9.13"
  }
 },
 "nbformat": 4,
 "nbformat_minor": 2
}
