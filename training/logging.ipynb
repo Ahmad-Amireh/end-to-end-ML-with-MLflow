{
 "cells": [
  {
   "cell_type": "code",
   "execution_count": 14,
   "metadata": {},
   "outputs": [
    {
     "name": "stderr",
     "output_type": "stream",
     "text": [
      "WARNING:root:warning\n",
      "ERROR:root:error\n",
      "CRITICAL:root:critical\n"
     ]
    }
   ],
   "source": [
    "import logging\n",
    "import os \n",
    "from pathlib import Path\n",
    "\n",
    "logging.debug(\"debug\")\n",
    "logging.info(\"info\")\n",
    "logging.warning(\"warning\")\n",
    "logging.error(\"error\")\n",
    "logging.critical(\"critical\")"
   ]
  },
  {
   "cell_type": "code",
   "execution_count": 3,
   "metadata": {},
   "outputs": [
    {
     "name": "stderr",
     "output_type": "stream",
     "text": [
      "WARNING:root:warning\n",
      "ERROR:root:error\n",
      "CRITICAL:root:critical\n"
     ]
    }
   ],
   "source": [
    "logging.basicConfig(level=logging.INFO) # This is to log info and above \n",
    "\n",
    "logging.debug(\"debug\")\n",
    "logging.info(\"info\")\n",
    "logging.warning(\"warning\")\n",
    "logging.error(\"error\")\n",
    "logging.critical(\"critical\")"
   ]
  },
  {
   "cell_type": "code",
   "execution_count": 30,
   "metadata": {},
   "outputs": [
    {
     "name": "stderr",
     "output_type": "stream",
     "text": [
      "WARNING:root:warning\n",
      "ERROR:root:error\n",
      "CRITICAL:root:critical\n"
     ]
    }
   ],
   "source": [
    "logging.basicConfig(level=logging.INFO, filename=\"log.log\", filemode=\"w\", format='%(asctime)s - %(levelname)s - %(message)s' ) # name of file and write the mode indicates overwriting a file that already exists \n",
    "logging.debug(\"debug\")\n",
    "logging.info(\"info\")\n",
    "logging.warning(\"warning\")\n",
    "logging.error(\"error\")\n",
    "logging.critical(\"critical\")\n",
    "\n"
   ]
  },
  {
   "cell_type": "code",
   "execution_count": 31,
   "metadata": {},
   "outputs": [],
   "source": [
    "try: \n",
    "    1 / 0 \n",
    "except ZeroDivisionError as e : \n",
    "    logging.error(f\"ZeroDivisionError\", exc_info=True)\n",
    "    ## or\n",
    "    ## Logging.exception(\"ZeroDivisionError\")\n",
    "\n"
   ]
  },
  {
   "cell_type": "code",
   "execution_count": null,
   "metadata": {},
   "outputs": [],
   "source": [
    "logging.basicConfig(level=logging.INFO, filename=\"log.log\", filemode=\"w\", format='%(asctime)s - %(levelname)s - %(message)s' ) # name of file and write the mode indicates overwriting a file that already exists \n",
    "logger = logging.getLogger(__name__)\n",
    "logger.info(\"test the cutom logger\")\n",
    "Handler = logging.FileHandler(\"test.log\")\n",
    "Handler.setformatter ('%(asctime)s - %(name)s - %(levelname)s - %(message)s')\n",
    "logger.addHandler(Handler)\n",
    "logger.info(\"test the custom log\")\n"
   ]
  },
  {
   "cell_type": "code",
   "execution_count": 33,
   "metadata": {},
   "outputs": [
    {
     "data": {
      "text/plain": [
       "['logging.ipynb']"
      ]
     },
     "execution_count": 33,
     "metadata": {},
     "output_type": "execute_result"
    }
   ],
   "source": [
    "os.listdir(\".\")"
   ]
  },
  {
   "cell_type": "code",
   "execution_count": 37,
   "metadata": {},
   "outputs": [
    {
     "data": {
      "text/plain": [
       "'ahmad\\\\amireh'"
      ]
     },
     "execution_count": 37,
     "metadata": {},
     "output_type": "execute_result"
    }
   ],
   "source": [
    "a = [\"ahmad\",\"amireh\"]\n",
    "path = os.path.join(*a) \n",
    "path"
   ]
  },
  {
   "cell_type": "code",
   "execution_count": 38,
   "metadata": {},
   "outputs": [],
   "source": [
    "project_name= \"mlproject\"\n",
    "\n",
    "list_of_files = [\n",
    "    \".github/workflow/.gitkeep\",\n",
    "    f\"src/{project_name}/__init__.py\",\n",
    "    f\"src/{project_name}/components/__init__.py\",\n",
    "    f\"src/{project_name}/utils/__init__.py\",\n",
    "    f\"src/{project_name}/utils/common.py\",\n",
    "    f\"src/{project_name}/config/__init__.py\",\n",
    "    f\"src/{project_name}/config/configuration.py\",\n",
    "    f\"src/{project_name}/pipeline/__init__.py\",\n",
    "    f\"src/{project_name}/entity/__init__.py\",\n",
    "    f\"src/{project_name}/entity/config_entity.py\",\n",
    "    f\"src/{project_name}/constants/__init__.py\",\n",
    "    \"config/config.yaml\", \n",
    "    \"dvc.yaml\",\n",
    "    \"params.yaml\",\n",
    "    \"schema.yaml\",\n",
    "    \"main.py\", \n",
    "    \"app.py\",\n",
    "    \"Dockerfile\", \n",
    "    \"requirments.txt\",\n",
    "    \"setup.py\",\n",
    "    \"research/trials.ipynb\",\n",
    "    \"templates/index.html\"\n",
    "    ]"
   ]
  },
  {
   "cell_type": "code",
   "execution_count": 47,
   "metadata": {},
   "outputs": [
    {
     "name": "stdout",
     "output_type": "stream",
     "text": [
      ".github\\workflow\n"
     ]
    },
    {
     "ename": "FileNotFoundError",
     "evalue": "[WinError 3] The system cannot find the path specified: '.github\\\\workflow'",
     "output_type": "error",
     "traceback": [
      "\u001b[1;31m---------------------------------------------------------------------------\u001b[0m",
      "\u001b[1;31mFileNotFoundError\u001b[0m                         Traceback (most recent call last)",
      "Cell \u001b[1;32mIn[47], line 10\u001b[0m\n\u001b[0;32m      7\u001b[0m \u001b[38;5;28mprint\u001b[39m(filedir)\n\u001b[0;32m      9\u001b[0m \u001b[38;5;28;01mif\u001b[39;00m filedir \u001b[38;5;241m!=\u001b[39m \u001b[38;5;124m\"\u001b[39m\u001b[38;5;124m\"\u001b[39m: \n\u001b[1;32m---> 10\u001b[0m     \u001b[43mshutil\u001b[49m\u001b[38;5;241;43m.\u001b[39;49m\u001b[43mrmtree\u001b[49m\u001b[43m(\u001b[49m\u001b[43mfiledir\u001b[49m\u001b[43m)\u001b[49m\n\u001b[0;32m     11\u001b[0m     \u001b[38;5;28mprint\u001b[39m(\u001b[38;5;124mf\u001b[39m\u001b[38;5;124m\"\u001b[39m\u001b[38;5;124mcrating directory; \u001b[39m\u001b[38;5;132;01m{\u001b[39;00mfiledir\u001b[38;5;132;01m}\u001b[39;00m\u001b[38;5;124m for the file: \u001b[39m\u001b[38;5;132;01m{\u001b[39;00mfilename\u001b[38;5;132;01m}\u001b[39;00m\u001b[38;5;124m\"\u001b[39m)\n\u001b[0;32m     13\u001b[0m \u001b[38;5;66;03m#if(not os.path.exists(filepath)) or (os.path.getsize(filepath) ==0):\u001b[39;00m\n\u001b[0;32m     14\u001b[0m     \u001b[38;5;66;03m#with open(filepath, 'w') as f:\u001b[39;00m\n\u001b[0;32m     15\u001b[0m         \u001b[38;5;66;03m#pass\u001b[39;00m\n\u001b[1;32m   (...)\u001b[0m\n\u001b[0;32m     18\u001b[0m \u001b[38;5;66;03m#else:\u001b[39;00m\n\u001b[0;32m     19\u001b[0m     \u001b[38;5;66;03m#print(\"file name is already exists\")\u001b[39;00m\n",
      "File \u001b[1;32m~\\AppData\\Local\\Programs\\Python\\Python312\\Lib\\shutil.py:781\u001b[0m, in \u001b[0;36mrmtree\u001b[1;34m(path, ignore_errors, onerror, onexc, dir_fd)\u001b[0m\n\u001b[0;32m    779\u001b[0m     \u001b[38;5;66;03m# can't continue even if onexc hook returns\u001b[39;00m\n\u001b[0;32m    780\u001b[0m     \u001b[38;5;28;01mreturn\u001b[39;00m\n\u001b[1;32m--> 781\u001b[0m \u001b[38;5;28;01mreturn\u001b[39;00m \u001b[43m_rmtree_unsafe\u001b[49m\u001b[43m(\u001b[49m\u001b[43mpath\u001b[49m\u001b[43m,\u001b[49m\u001b[43m \u001b[49m\u001b[43monexc\u001b[49m\u001b[43m)\u001b[49m\n",
      "File \u001b[1;32m~\\AppData\\Local\\Programs\\Python\\Python312\\Lib\\shutil.py:623\u001b[0m, in \u001b[0;36m_rmtree_unsafe\u001b[1;34m(path, onexc)\u001b[0m\n\u001b[0;32m    621\u001b[0m     onexc(os\u001b[38;5;241m.\u001b[39mscandir, err\u001b[38;5;241m.\u001b[39mfilename, err)\n\u001b[0;32m    622\u001b[0m results \u001b[38;5;241m=\u001b[39m os\u001b[38;5;241m.\u001b[39mwalk(path, topdown\u001b[38;5;241m=\u001b[39m\u001b[38;5;28;01mFalse\u001b[39;00m, onerror\u001b[38;5;241m=\u001b[39monerror, followlinks\u001b[38;5;241m=\u001b[39mos\u001b[38;5;241m.\u001b[39m_walk_symlinks_as_files)\n\u001b[1;32m--> 623\u001b[0m \u001b[43m\u001b[49m\u001b[38;5;28;43;01mfor\u001b[39;49;00m\u001b[43m \u001b[49m\u001b[43mdirpath\u001b[49m\u001b[43m,\u001b[49m\u001b[43m \u001b[49m\u001b[43mdirnames\u001b[49m\u001b[43m,\u001b[49m\u001b[43m \u001b[49m\u001b[43mfilenames\u001b[49m\u001b[43m \u001b[49m\u001b[38;5;129;43;01min\u001b[39;49;00m\u001b[43m \u001b[49m\u001b[43mresults\u001b[49m\u001b[43m:\u001b[49m\n\u001b[0;32m    624\u001b[0m \u001b[43m    \u001b[49m\u001b[38;5;28;43;01mfor\u001b[39;49;00m\u001b[43m \u001b[49m\u001b[43mname\u001b[49m\u001b[43m \u001b[49m\u001b[38;5;129;43;01min\u001b[39;49;00m\u001b[43m \u001b[49m\u001b[43mdirnames\u001b[49m\u001b[43m:\u001b[49m\n\u001b[0;32m    625\u001b[0m \u001b[43m        \u001b[49m\u001b[43mfullname\u001b[49m\u001b[43m \u001b[49m\u001b[38;5;241;43m=\u001b[39;49m\u001b[43m \u001b[49m\u001b[43mos\u001b[49m\u001b[38;5;241;43m.\u001b[39;49m\u001b[43mpath\u001b[49m\u001b[38;5;241;43m.\u001b[39;49m\u001b[43mjoin\u001b[49m\u001b[43m(\u001b[49m\u001b[43mdirpath\u001b[49m\u001b[43m,\u001b[49m\u001b[43m \u001b[49m\u001b[43mname\u001b[49m\u001b[43m)\u001b[49m\n",
      "File \u001b[1;32m<frozen os>:369\u001b[0m, in \u001b[0;36mwalk\u001b[1;34m(top, topdown, onerror, followlinks)\u001b[0m\n",
      "File \u001b[1;32m~\\AppData\\Local\\Programs\\Python\\Python312\\Lib\\shutil.py:621\u001b[0m, in \u001b[0;36m_rmtree_unsafe.<locals>.onerror\u001b[1;34m(err)\u001b[0m\n\u001b[0;32m    620\u001b[0m \u001b[38;5;28;01mdef\u001b[39;00m \u001b[38;5;21monerror\u001b[39m(err):\n\u001b[1;32m--> 621\u001b[0m     \u001b[43monexc\u001b[49m\u001b[43m(\u001b[49m\u001b[43mos\u001b[49m\u001b[38;5;241;43m.\u001b[39;49m\u001b[43mscandir\u001b[49m\u001b[43m,\u001b[49m\u001b[43m \u001b[49m\u001b[43merr\u001b[49m\u001b[38;5;241;43m.\u001b[39;49m\u001b[43mfilename\u001b[49m\u001b[43m,\u001b[49m\u001b[43m \u001b[49m\u001b[43merr\u001b[49m\u001b[43m)\u001b[49m\n",
      "File \u001b[1;32m<frozen os>:366\u001b[0m, in \u001b[0;36mwalk\u001b[1;34m(top, topdown, onerror, followlinks)\u001b[0m\n",
      "\u001b[1;31mFileNotFoundError\u001b[0m: [WinError 3] The system cannot find the path specified: '.github\\\\workflow'"
     ]
    }
   ],
   "source": [
    "import shutil\n",
    "\n",
    "\n",
    "for filepath in list_of_files: \n",
    "    filepath = Path(filepath)\n",
    "    filedir, filename= os.path.split(filepath)\n",
    "    print(filedir)\n",
    "\n",
    "    if filedir != \"\" and os.path.exists(filedir):\n",
    "        shutil.rmtree(filedir)\n",
    "        print(f\"crating directory; {filedir} for the file: {filename}\")\n",
    "\n",
    "    #if(not os.path.exists(filepath)) or (os.path.getsize(filepath) ==0):\n",
    "        #with open(filepath, 'w') as f:\n",
    "            #pass\n",
    "            #print(f\"creating empty file: {filepath}\")\n",
    "\n",
    "    #else:\n",
    "        #print(\"file name is already exists\")\n"
   ]
  },
  {
   "cell_type": "code",
   "execution_count": null,
   "metadata": {},
   "outputs": [],
   "source": []
  }
 ],
 "metadata": {
  "kernelspec": {
   "display_name": "env",
   "language": "python",
   "name": "python3"
  },
  "language_info": {
   "codemirror_mode": {
    "name": "ipython",
    "version": 3
   },
   "file_extension": ".py",
   "mimetype": "text/x-python",
   "name": "python",
   "nbconvert_exporter": "python",
   "pygments_lexer": "ipython3",
   "version": "3.12.4"
  }
 },
 "nbformat": 4,
 "nbformat_minor": 2
}
